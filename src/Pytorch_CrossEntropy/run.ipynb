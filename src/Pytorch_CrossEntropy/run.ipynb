{
 "cells": [
  {
   "cell_type": "code",
   "execution_count": 1,
   "id": "9728dcde-7333-4a58-aae4-7a97106b2b44",
   "metadata": {},
   "outputs": [
    {
     "name": "stdout",
     "output_type": "stream",
     "text": [
      "submit run.sh to icx node\n",
      "Submitting job:\n",
      "2186188.v-qsvr-1.aidevcloud\n",
      "Job ID                    Name             User            Time Use S Queue\n",
      "------------------------- ---------------- --------------- -------- - -----\n",
      "2184806.v-qsvr-1           ...ub-singleuser u175039         00:02:05 R jupyterhub     \n",
      "2186188.v-qsvr-1           run.sh           u175039                0 Q batch          \n",
      "Waiting for Output.............................................................TimeOut 60 seconds: Job is still queued for execution, check for output file later (*.sh.o)\n",
      "cat: 'run.sh.o*': No such file or directory\n",
      "cat: 'run.sh.e*': No such file or directory\n"
     ]
    }
   ],
   "source": [
    "! chmod 755 ../../q; chmod 755 run.sh;if [ -x \"$(command -v qsub)\" ];  then  ../../q run.sh; else ./run.sh; fi"
   ]
  },
  {
   "cell_type": "code",
   "execution_count": null,
   "id": "67e8bd53-9968-40b6-823d-a15b4d2f10bc",
   "metadata": {},
   "outputs": [],
   "source": []
  }
 ],
 "metadata": {
  "kernelspec": {
   "display_name": "PyTorch (AI kit)",
   "language": "python",
   "name": "c009-intel_distribution_of_python_3_oneapi-beta05-pytorch"
  },
  "language_info": {
   "codemirror_mode": {
    "name": "ipython",
    "version": 3
   },
   "file_extension": ".py",
   "mimetype": "text/x-python",
   "name": "python",
   "nbconvert_exporter": "python",
   "pygments_lexer": "ipython3",
   "version": "3.9.15"
  }
 },
 "nbformat": 4,
 "nbformat_minor": 5
}
